{
  "nbformat": 4,
  "nbformat_minor": 0,
  "metadata": {
    "colab": {
      "private_outputs": true,
      "provenance": [],
      "gpuType": "L4",
      "authorship_tag": "ABX9TyNQShF2w7zFXth3B5fbsnKk",
      "include_colab_link": true
    },
    "kernelspec": {
      "name": "python3",
      "display_name": "Python 3"
    },
    "language_info": {
      "name": "python"
    },
    "accelerator": "GPU"
  },
  "cells": [
    {
      "cell_type": "markdown",
      "metadata": {
        "id": "view-in-github",
        "colab_type": "text"
      },
      "source": [
        "<a href=\"https://colab.research.google.com/github/madhulsachdeva/Meeting_Minutes_From_Audio_Recording/blob/main/Meeting_Minutes_from_Audio_Recording.ipynb\" target=\"_parent\"><img src=\"https://colab.research.google.com/assets/colab-badge.svg\" alt=\"Open In Colab\"/></a>"
      ]
    },
    {
      "cell_type": "code",
      "execution_count": null,
      "metadata": {
        "id": "N3sYnbXIWflt"
      },
      "outputs": [],
      "source": [
        "!pip install -q requests torch bitsandbytes transformers sentencepiece accelerate openai httpx==0.27.2 markdown gradio"
      ]
    },
    {
      "cell_type": "code",
      "source": [
        "# imports\n",
        "\n",
        "import os\n",
        "import requests\n",
        "from IPython.display import Markdown, display, update_display\n",
        "from openai import OpenAI\n",
        "from google.colab import drive\n",
        "from huggingface_hub import login\n",
        "from google.colab import userdata\n",
        "from transformers import AutoTokenizer, AutoModelForCausalLM, TextStreamer, BitsAndBytesConfig, AutoModelForSpeechSeq2Seq, AutoProcessor, pipeline\n",
        "import torch\n",
        "import gradio as gr"
      ],
      "metadata": {
        "id": "ZxgYTnwuWpA7"
      },
      "execution_count": null,
      "outputs": []
    },
    {
      "cell_type": "code",
      "source": [
        "# Define 2 LLM Models.\n",
        "AUDIO_MODEL = \"whisper-1\"\n",
        "\n",
        "LLAMA = \"meta-llama/Meta-Llama-3.1-8B-Instruct\"\n",
        "QWEN2=\"Qwen/Qwen2-7B-Instruct\"\n",
        "\n",
        "system_prompt=\"You are an assistant that produces minutes of meetings from transcripts, with summary, key discussion points, takeaways, action items with owners and next steps, respond in markdown.\"\n",
        "user_prompt = \"Below is an extract transcript of a Denver council meeting. Please write minutes in markdown, including a summary with attendees, location and date; discussion points; takeaways; action items with owners.\"\n",
        "\n",
        "g_min =\"\"\n",
        "g_min_clean=\"\""
      ],
      "metadata": {
        "id": "EZmyF8ITWquP"
      },
      "execution_count": null,
      "outputs": []
    },
    {
      "cell_type": "code",
      "source": [
        "# Sign in to HuggingFace Hub\n",
        "hf_token = userdata.get('HF_TOKEN')\n",
        "login(hf_token, add_to_git_credential=True)\n",
        "\n",
        "# Sign in to OpenAI using Secrets in Colab\n",
        "openai_api_key = userdata.get('OPENAI_API_KEY')\n",
        "openai = OpenAI(api_key=openai_api_key)\n",
        "\n",
        "# Mount Google Drive\n",
        "drive.mount(\"/content/drive\")"
      ],
      "metadata": {
        "id": "VvJgAeOsXuKP"
      },
      "execution_count": null,
      "outputs": []
    },
    {
      "cell_type": "code",
      "source": [
        "file=\"denver_extract.mp3\"\n",
        "temp_file_path=f\"/content/drive/{file}\"\n",
        "print(temp_file_path)\n"
      ],
      "metadata": {
        "id": "oscCRr0B31eq"
      },
      "execution_count": null,
      "outputs": []
    },
    {
      "cell_type": "code",
      "source": [
        "os.path.exists(\"/content/drive/MyDrive/denver_extract.mp3\")\n",
        " #(\"f/content/drive/{temp_file_path}\")"
      ],
      "metadata": {
        "id": "aMf3Rh5G4q8K"
      },
      "execution_count": null,
      "outputs": []
    },
    {
      "cell_type": "code",
      "source": [
        "#Define System Prompt\n",
        "\n",
        "def get_system_message(s_message):\n",
        "  system_messages = [\n",
        "      {\"role\": \"system\", \"content\": s_message}\n",
        "    ]\n",
        "  return system_messages\n",
        "\n",
        "# Define User Prompt\n",
        "def get_user_message(u_message, transcribed_script):\n",
        "  user_prompt = f\"{u_message}\\n{transcribed_script}\"\n",
        "  user_messages = [\n",
        "      {\"role\": \"user\", \"content\": user_prompt}\n",
        "    ]\n",
        "  return user_messages\n",
        "\n",
        "#Get Chat Message Template\n",
        "def get_messages(sprompt,uprompt,transcription):\n",
        "  messages=get_system_message(sprompt)+get_user_message(uprompt,transcription)\n",
        "  return messages\n",
        "\n",
        "#Quantize model\n",
        "def get_quant_config():\n",
        "  quant_config = BitsAndBytesConfig(\n",
        "    load_in_4bit=True,\n",
        "    bnb_4bit_use_double_quant=True,\n",
        "    bnb_4bit_compute_dtype=torch.bfloat16,\n",
        "    bnb_4bit_quant_type=\"nf4\"\n",
        "  )\n",
        "  return quant_config\n",
        "\n",
        "# New capability - connect this Colab to my Google Drive\n",
        "# See immediately below this for instructions to obtain denver_extract.mp3\n",
        "def process_audiofile(filename):\n",
        "  audio_filename = f\"/content/drive/MyDrive/{filename}\"\n",
        "  return audio_filename\n",
        "  #denver_extract.mp3\"\n",
        "\n",
        "def transcribe_audio(audio_filename):\n",
        "  audio_file = open(audio_filename, \"rb\")\n",
        "  transcription = openai.audio.transcriptions.create(model=AUDIO_MODEL, file=audio_file, response_format=\"text\")\n",
        "  return transcription\n",
        "\n",
        "def generate(model, messages):\n",
        "    tokenizer = AutoTokenizer.from_pretrained(model)\n",
        "    tokenizer.pad_token = tokenizer.eos_token\n",
        "    inputs = tokenizer.apply_chat_template(messages, return_tensors=\"pt\", add_generation_prompt=True).to(\"cuda\")\n",
        "    model = AutoModelForCausalLM.from_pretrained(model, device_map=\"auto\",quantization_config=get_quant_config())\n",
        "    # Define streamer within the second generate function as well\n",
        "    #streamer = TextStreamer(tokenizer)\n",
        "    outputs = model.generate(inputs, max_new_tokens=3000)#,streamer=streamer)\n",
        "    del inputs, model\n",
        "    torch.cuda.empty_cache()\n",
        "\n",
        "    return tokenizer.decode(outputs[0], skip_special_tokens=True, clean_up_tokenization_spaces=False)\n",
        "\n",
        "def remove_headers(text, word):\n",
        "    # Split the text at the specified word\n",
        "    parts = text.split(word)\n",
        "    # If the word is found, return the text from the word onwards\n",
        "    if len(parts) > 1:\n",
        "        return word + parts[1]\n",
        "    else:\n",
        "        return text  # Return original text if the word is not found\n",
        "\n",
        "def clean_up_text(text_to_clean):\n",
        "    meeting_index = text_to_clean.find(\"**M\")\n",
        "    if meeting_index == -1:\n",
        "        return text_to_clean\n",
        "    else:\n",
        "        return text_to_clean[meeting_index:]"
      ],
      "metadata": {
        "id": "fo6GDZ50XMvd"
      },
      "execution_count": null,
      "outputs": []
    },
    {
      "cell_type": "code",
      "source": [
        "\"\"\"\n",
        "def generate(model, messages):\n",
        "    tokenizer = AutoTokenizer.from_pretrained(model)\n",
        "    tokenizer.pad_token = tokenizer.eos_token\n",
        "    inputs = tokenizer.apply_chat_template(messages, return_tensors=\"pt\", add_generation_prompt=True).to(\"cuda\")\n",
        "    model = AutoModelForCausalLM.from_pretrained(model, device_map=\"auto\",quantization_config=get_quant_config())\n",
        "    # Define streamer within the second generate function as well\n",
        "    streamer = TextStreamer(tokenizer)\n",
        "    outputs = model.generate(inputs, max_new_tokens=3000, streamer=streamer)\n",
        "    del inputs, model\n",
        "    torch.cuda.empty_cache()\n",
        "    return tokenizer.decode(outputs[0], skip_special_tokens=True, clean_up_tokenization_spaces=False)\n",
        "\"\"\""
      ],
      "metadata": {
        "id": "LJ-2A-IGz3kO"
      },
      "execution_count": null,
      "outputs": []
    },
    {
      "cell_type": "code",
      "source": [
        "def generate_minutes(model,filename):\n",
        "  file = filename\n",
        "  audio_filepath = ''\n",
        "  sprompt =''\n",
        "  uprompt =''\n",
        "  quant_config = get_quant_config()\n",
        "  temp_file_path=f\"/content/drive/MyDrive/{file}\"\n",
        "  print(temp_file_path)\n",
        "\n",
        "  if os.path.exists(temp_file_path):\n",
        "    audio_filepath = process_audiofile(file)\n",
        "    transcription = transcribe_audio(audio_filepath)\n",
        "    sprompt = get_system_message(system_prompt)\n",
        "    uprompt = get_user_message(user_prompt,transcription)\n",
        "    messages= sprompt+uprompt\n",
        "\n",
        "    minutes = generate(model,messages)\n",
        "\n",
        "    #Remove unwanted text.\n",
        "    g_min_clean = clean_up_text(minutes)\n",
        "    return g_min_clean\n",
        "\n",
        "  else:\n",
        "    return f\"File not found, please make sure \\'{file}\\' exists in your Google Drive\"\n"
      ],
      "metadata": {
        "id": "BoKw3VtEW4BF"
      },
      "execution_count": null,
      "outputs": []
    },
    {
      "cell_type": "code",
      "source": [
        "def stream_minutes(model, filename):\n",
        "    \"\"\"\n",
        "    Stream minutes generation with Gradio compatibility\n",
        "\n",
        "    Args:\n",
        "        model: The LLM model to use for generation\n",
        "        filename: Input file to process\n",
        "\n",
        "    Yields:\n",
        "        str: Streamed text chunks for Gradio interface\n",
        "    \"\"\"\n",
        "    stream = generate_minutes(model, filename)\n",
        "    response_text = \"\"\n",
        "\n",
        "    for chunk in stream:\n",
        "        response_text += chunk\n",
        "        # Format as markdown if needed\n",
        "        markdown_text = f\"# Meeting Minutes\\n\\n{response_text}\"\n",
        "        yield markdown_text"
      ],
      "metadata": {
        "id": "mxNUlEhG9mfU"
      },
      "execution_count": null,
      "outputs": []
    },
    {
      "cell_type": "code",
      "source": [
        "import gradio as gr\n",
        "\n",
        "with gr.Blocks(theme=gr.themes.Soft(),title=\"📑Easy Minutes\") as demo:\n",
        "    gr.Markdown(\"# 📆Meeting Minutes Generator \\nEasily generate professional looking meeting minutes from audio recordings of your meetings.\")\n",
        "\n",
        "    with gr.Row():\n",
        "        # Inputs\n",
        "        with gr.Column():\n",
        "            model = gr.Textbox(\n",
        "                value=LLAMA,\n",
        "                visible=False,\n",
        "                label=\"Model\",\n",
        "                container=True\n",
        "            )\n",
        "            filename = gr.Textbox(\n",
        "                label=\"Meeting recording filename\",\n",
        "                placeholder=\"enter name of audio meeting recording file located in GDrive\",\n",
        "                lines=1,\n",
        "                container=True\n",
        "            )\n",
        "            with gr.Row():\n",
        "                process_button = gr.Button(\"Generate Minutes\", variant=\"primary\")\n",
        "                clear_button = gr.Button(\"Clear\", variant=\"secondary\")\n",
        "\n",
        "        # Outputs\n",
        "        with gr.Column():\n",
        "            output = gr.Markdown(\n",
        "                value=\"## **Minutes will appear below once processed...** \\n❕Please note this can take 5 - 7 minutes depending on the size of the file\",  # Markdown formatting for bold heading\n",
        "                label=\"Meeting Minutes\",\n",
        "                container=True\n",
        "            )\n",
        "\n",
        "    # Clear function\n",
        "    def clear_outputs():\n",
        "        return {\n",
        "            filename: \"\",\n",
        "            output: f\"## **Minutes will appear below once processed...** \\n❕Please note this can take 5 - 7 minutes depending on the size of the file\"\n",
        "        }\n",
        "\n",
        "    # Connect the components\n",
        "    process_button.click(\n",
        "        fn=stream_minutes,\n",
        "       inputs=[model, filename],\n",
        "        outputs=output,\n",
        "        show_progress=True\n",
        "    )\n",
        "\n",
        "    # Connect clear button\n",
        "    clear_button.click(\n",
        "        fn=clear_outputs,\n",
        "        inputs=[],\n",
        "        outputs=[filename, output]\n",
        "    )\n",
        "\n",
        "demo.queue()\n",
        "demo.launch(inbrowser=True, debug=True, share=True)"
      ],
      "metadata": {
        "id": "6I_CvpFYJpZE"
      },
      "execution_count": null,
      "outputs": []
    }
  ]
}